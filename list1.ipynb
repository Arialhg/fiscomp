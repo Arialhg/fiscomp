{
  "nbformat": 4,
  "nbformat_minor": 0,
  "metadata": {
    "colab": {
      "provenance": [],
      "collapsed_sections": [
        "qx5e8Mg9Murw",
        "mNT9uIKMkmYX",
        "FqwOaiQtcAaC"
      ]
    },
    "kernelspec": {
      "name": "python3",
      "display_name": "Python 3"
    },
    "language_info": {
      "name": "python"
    }
  },
  "cells": [
    {
      "cell_type": "markdown",
      "source": [
        "## Exercício 1 (Mínimo)\n",
        "\n",
        "\n",
        "O código seguinte tenta realizar a seguinte operação:\n",
        "\n",
        "$n! = n.(n-1).(n-2).\\cdots.1$\n",
        "\n",
        "Utilizando loop ``for``"
      ],
      "metadata": {
        "id": "qx5e8Mg9Murw"
      }
    },
    {
      "cell_type": "code",
      "execution_count": null,
      "metadata": {
        "id": "jGS1t6kSAsZv",
        "colab": {
          "base_uri": "https://localhost:8080/"
        },
        "outputId": "661db0db-f105-4531-fd2b-ff7158bc61b6"
      },
      "outputs": [
        {
          "output_type": "stream",
          "name": "stdout",
          "text": [
            "Enter a number: 5\n",
            "The factorial of 5 is 120!\n"
          ]
        }
      ],
      "source": [
        "def fatorial(n):\n",
        "  '''\n",
        "  This function attempts to calculate the factorial of a given number n using a\n",
        "  for loop\n",
        "\n",
        "  Args:\n",
        "    n (int) : integer number\n",
        "\n",
        "  Returns:\n",
        "    Factorial of the number n, or n!\n",
        "\n",
        "  '''\n",
        "\n",
        "  for i in range(n-1, 1, -1):\n",
        "    fac = n*i\n",
        "    n = fac\n",
        "  return fac\n",
        "\n",
        "n = int(input('Enter a number: '))\n",
        "\n",
        "res = fatorial(n)\n",
        "\n",
        "print(f'The factorial of {n} is {res}!')"
      ]
    },
    {
      "cell_type": "markdown",
      "source": [
        "## Exercício 1 (Intermediário)\n",
        "\n",
        "\n",
        "O código seguinte tenta realizar a seguinte operação:\n",
        "\n",
        "$n! = n.(n-1).(n-2).\\cdots.1$\n",
        "\n",
        "Utilizando loop ``while``"
      ],
      "metadata": {
        "id": "mNT9uIKMkmYX"
      }
    },
    {
      "cell_type": "code",
      "source": [
        "def factorial(n):\n",
        " '''\n",
        "  This function attempts to calculate the factorial of a given number n using a\n",
        "  while loop\n",
        "\n",
        "  Args:\n",
        "    n (int) : integer number\n",
        "\n",
        "  Returns:\n",
        "    Factorial of the number n, or n!\n",
        "\n",
        "  '''\n",
        "  i = n - 1\n",
        "  fac = n\n",
        "  while i > 1:\n",
        "    fac = fac*i\n",
        "    i -= 1\n",
        "  return fac\n",
        "\n",
        "n = int(input('Enter a number: '))\n",
        "\n",
        "res = factorial(n)\n",
        "\n",
        "print(f'The factorial of {n} is {res}!')"
      ],
      "metadata": {
        "colab": {
          "base_uri": "https://localhost:8080/"
        },
        "id": "5VspaBWWmVod",
        "outputId": "c428ed70-5e80-4f91-cd53-9e1aaee4ebc9"
      },
      "execution_count": null,
      "outputs": [
        {
          "output_type": "stream",
          "name": "stdout",
          "text": [
            "Enter a number: 5\n",
            "The factorial of 5 is 120!\n"
          ]
        }
      ]
    },
    {
      "cell_type": "markdown",
      "source": [
        "Utilizando funções recursivas:\n"
      ],
      "metadata": {
        "id": "DlHz4Rxta8xL"
      }
    },
    {
      "cell_type": "code",
      "source": [
        "def factorial(n):\n",
        "  '''\n",
        "  This function attempts to calculate the factorial of a given number n using\n",
        "  recursive functions\n",
        "\n",
        "  Args:\n",
        "    n (int) : integer number\n",
        "\n",
        "  Returns:\n",
        "    Factorial of the number n, or n!\n",
        "\n",
        "  '''\n",
        "\n",
        "  if n == 1:\n",
        "    return 1\n",
        "  else:\n",
        "    return n*factorial(n-1)\n",
        "\n",
        "n = int(input('Enter a number: '))\n",
        "\n",
        "res = factorial(n)\n",
        "\n",
        "print(f'The factorial of {n} is {res}!')"
      ],
      "metadata": {
        "colab": {
          "base_uri": "https://localhost:8080/"
        },
        "id": "Mq4VoYCSbAi1",
        "outputId": "6da3daf9-a1bb-4cf9-a519-9904f5bd3ddd"
      },
      "execution_count": null,
      "outputs": [
        {
          "output_type": "stream",
          "name": "stdout",
          "text": [
            "Enter a number: 4\n",
            "The factorial of 4 is 24!\n"
          ]
        }
      ]
    },
    {
      "cell_type": "markdown",
      "source": [
        "## Exercício 1 (Avançado)\n",
        "O código seguinte tenta realizar a seguinte operação:\n",
        "\n",
        "$n! = n.(n-1).(n-2).\\cdots.1$\n",
        "\n",
        "Utilizando o comando ``assert``"
      ],
      "metadata": {
        "id": "FqwOaiQtcAaC"
      }
    },
    {
      "cell_type": "code",
      "source": [
        "def factorial(n):\n",
        "  '''\n",
        "  This function attempts to calculate the factorial of a given number n using a\n",
        "  while loop; this one however has an assertion that prevents the code from\n",
        "  working if n<=0\n",
        "\n",
        "  Args:\n",
        "    n (int) : integer number\n",
        "\n",
        "  Returns:\n",
        "    Factorial of the number n, or n!\n",
        "\n",
        "  '''\n",
        "  i = n - 1\n",
        "  fac = n\n",
        "  while i > 1:\n",
        "    fac = fac*i\n",
        "    i -= 1\n",
        "  return fac\n",
        "\n",
        "n = int(input('Enter a number: '))\n",
        "assert n >= 0, 'The number must be greater than 0'\n",
        "\n",
        "res = factorial(n)\n",
        "\n",
        "print(f'The factorial of {n} is {res}!')"
      ],
      "metadata": {
        "colab": {
          "base_uri": "https://localhost:8080/",
          "height": 228
        },
        "id": "RYwUNReFcHrL",
        "outputId": "5e95df6a-128f-45e2-9e43-3a89eaaec34a"
      },
      "execution_count": null,
      "outputs": [
        {
          "name": "stdout",
          "output_type": "stream",
          "text": [
            "Enter a number: -3\n"
          ]
        },
        {
          "output_type": "error",
          "ename": "AssertionError",
          "evalue": "The number must be greater than 0",
          "traceback": [
            "\u001b[0;31m---------------------------------------------------------------------------\u001b[0m",
            "\u001b[0;31mAssertionError\u001b[0m                            Traceback (most recent call last)",
            "\u001b[0;32m<ipython-input-3-da7f1088c7d9>\u001b[0m in \u001b[0;36m<cell line: 10>\u001b[0;34m()\u001b[0m\n\u001b[1;32m      8\u001b[0m \u001b[0;34m\u001b[0m\u001b[0m\n\u001b[1;32m      9\u001b[0m \u001b[0mn\u001b[0m \u001b[0;34m=\u001b[0m \u001b[0mint\u001b[0m\u001b[0;34m(\u001b[0m\u001b[0minput\u001b[0m\u001b[0;34m(\u001b[0m\u001b[0;34m'Enter a number: '\u001b[0m\u001b[0;34m)\u001b[0m\u001b[0;34m)\u001b[0m\u001b[0;34m\u001b[0m\u001b[0;34m\u001b[0m\u001b[0m\n\u001b[0;32m---> 10\u001b[0;31m \u001b[0;32massert\u001b[0m \u001b[0mn\u001b[0m \u001b[0;34m>=\u001b[0m \u001b[0;36m0\u001b[0m\u001b[0;34m,\u001b[0m \u001b[0;34m'The number must be greater than 0'\u001b[0m\u001b[0;34m\u001b[0m\u001b[0;34m\u001b[0m\u001b[0m\n\u001b[0m\u001b[1;32m     11\u001b[0m \u001b[0;34m\u001b[0m\u001b[0m\n\u001b[1;32m     12\u001b[0m \u001b[0mres\u001b[0m \u001b[0;34m=\u001b[0m \u001b[0mfactorial\u001b[0m\u001b[0;34m(\u001b[0m\u001b[0mn\u001b[0m\u001b[0;34m)\u001b[0m\u001b[0;34m\u001b[0m\u001b[0;34m\u001b[0m\u001b[0m\n",
            "\u001b[0;31mAssertionError\u001b[0m: The number must be greater than 0"
          ]
        }
      ]
    },
    {
      "cell_type": "markdown",
      "source": [
        "## Exercício 2 (Mínimo/Intermediário)\n",
        "\n",
        "\n",
        "O código seguinte tenta mostrar os $n$ primeiros termos da sequência de Fibonacci.\n",
        "\n",
        "Tal sequência é dada pela seguinte formula recursiva:\n",
        "\n",
        "$a_{n}=a_{n-1}+a_{n-2}$"
      ],
      "metadata": {
        "id": "kEvEtuaL0eEl"
      }
    },
    {
      "cell_type": "code",
      "source": [
        "def fib_seq(n):\n",
        "  '''\n",
        "  This function receives a number n from the user, and\n",
        "  returns a list with the first n Fibonacci numbers.\n",
        "\n",
        "  Args:\n",
        "    n: The number of Fibonacci numbers to generate.\n",
        "\n",
        "  Returns:\n",
        "    A list containing the first n Fibonacci numbers.\n",
        "  '''\n",
        "\n",
        "  fib_list = []\n",
        "  a, b = 0, 1\n",
        "\n",
        "  for _ in range(n):\n",
        "    fib_list.append(a)\n",
        "    a, b = b, a + b\n",
        "\n",
        "  return fib_list\n",
        "\n",
        "n = int(input(\"Enter the number of Fibonacci terms to generate: \"))\n",
        "\n",
        "fib_num = fib_seq(n)\n",
        "print(fib_num)"
      ],
      "metadata": {
        "id": "wvq8Qv6J3AdV",
        "colab": {
          "base_uri": "https://localhost:8080/"
        },
        "outputId": "912b78bd-6fb3-44c6-d3d7-5bd4d506f1b5"
      },
      "execution_count": null,
      "outputs": [
        {
          "output_type": "stream",
          "name": "stdout",
          "text": [
            "Enter the number of Fibonacci terms to generate: 10\n",
            "[0, 1, 1, 2, 3, 5, 8, 13, 21, 34]\n"
          ]
        }
      ]
    },
    {
      "cell_type": "markdown",
      "source": [
        "## Exercício 3 (Mínimo/Intermediário)\n",
        "\n",
        "O código recebe 3 coeficientes que formam uma equação do segundo grau do tipo $ax^2+bx+c=0$ e retorna as raízes da mesma.\n",
        "\n",
        "Seguindo a fórmula de Baskhara, temos:\n",
        "\n",
        "$\\Delta = b^2 - 4 . a . c$\n",
        "\n",
        "E as raízes são calculadas por:\n",
        "\n",
        "$x = \\dfrac{-b\\pm \\sqrt{\\Delta}}{2a}$\n"
      ],
      "metadata": {
        "id": "gmOURGj2YRR1"
      }
    },
    {
      "cell_type": "code",
      "source": [
        "def baskhara(a1,b1,c1):\n",
        "  '''\n",
        "  This function attempts to calculate the roots of a given quadratic equation;\n",
        "  the user inputs a, b, c, the coefficients of the equation, and the function\n",
        "  calculates and prints the roots and the discriminant. This include any non-real\n",
        "  roots.\n",
        "\n",
        "  Args:\n",
        "    a1, b1, b1 (int) : quadratic equation coefficients\n",
        "\n",
        "  Returns:\n",
        "    The roots and discriminant of a given quadratic equation, input by the user.\n",
        "  '''\n",
        "  d = b1*b1 - 4 * a1 * c1\n",
        "  if a != 0: # Case for a quadratic equation\n",
        "    x1 = ((-b1)+(d**0.5))/(2*a)\n",
        "    x2 = ((-b1)-(d**0.5))/(2*a)\n",
        "    return x1, x2, d\n",
        "  else: # Case for a linear equation\n",
        "    x = -c/b\n",
        "    x1, x2 = x, x\n",
        "    return x1, x2, d\n",
        "a, b, c = map(int, input(\"Write the coefficients a, b e c separated by a space: \").split())\n",
        "x1, x2, d = baskhara(a,b,c)\n",
        "print(f'The roots of the quadratic equation are {x1} and {x2}, and the discriminant is equal to {d}!')"
      ],
      "metadata": {
        "colab": {
          "base_uri": "https://localhost:8080/"
        },
        "id": "GwNa6ZsSYnCt",
        "outputId": "19b20ddd-cb81-4a16-bd12-6e4c1f079c02"
      },
      "execution_count": null,
      "outputs": [
        {
          "output_type": "stream",
          "name": "stdout",
          "text": [
            "Write the coefficients a, b e c separated by a space: 4 1 0\n",
            "The roots of the quadratic equation are 0.0 and -4.0, and the discriminant is equal to 1!\n"
          ]
        }
      ]
    },
    {
      "cell_type": "markdown",
      "source": [
        "## Exercício 3 (Avançado)\n",
        "\n",
        "O código recebe 3 coeficientes que formam uma equação do segundo grau do tipo $ax^2+bx+c=0$ e retorna as raízes da mesma. Usa-se ``assert`` para garantir que $a\\neq0$\n",
        "\n",
        "Seguindo a fórmula de Baskhara, temos:\n",
        "\n",
        "$\\Delta = b^2 - 4 . a . c$\n",
        "\n",
        "E as raízes são calculadas por:\n",
        "\n",
        "$x = \\dfrac{-b\\pm \\sqrt{\\Delta}}{2a}$"
      ],
      "metadata": {
        "id": "e1yJDZ9jxRlH"
      }
    },
    {
      "cell_type": "code",
      "source": [
        "def baskhara(a1,b1,c1):\n",
        "  '''\n",
        "  This function attempts to calculate the roots of a given quadratic equation;\n",
        "  the user inputs a, b, c, the coefficients of the equation, and the function\n",
        "  calculates and prints the roots and the discriminant. This include any non-real\n",
        "  roots.\n",
        "\n",
        "  Args:\n",
        "    a1, b1, b1 (int) : quadratic equation coefficients\n",
        "\n",
        "  Returns:\n",
        "    The roots and discriminant of a given quadratic equation, input by the user.\n",
        "  '''\n",
        "  d = b1*b1 - 4 * a1 * c1\n",
        "  x1 = ((-b1)+(d**0.5))/(2*a1)\n",
        "  x2 = ((-b1)-(d**0.5))/(2*a1)\n",
        "  return x1, x2, d\n",
        "a, b, c = map(int, input(\"Write the coefficients a, b e c separated by a space: \").split())\n",
        "assert a!=0, \"The equation is not quadratic!\"\n",
        "x1, x2, d = baskhara(a,b,c)\n",
        "print(f'The roots of the quadratic equation are {x1} and {x2}, and the discriminant is equal to {d}!')"
      ],
      "metadata": {
        "colab": {
          "base_uri": "https://localhost:8080/"
        },
        "id": "goRfAQ4TxzNl",
        "outputId": "c25f9025-97f0-41b7-d64b-12a887a39224"
      },
      "execution_count": null,
      "outputs": [
        {
          "output_type": "stream",
          "name": "stdout",
          "text": [
            "Write the coefficients a, b e c separated by a space: 1 2 3\n",
            "The roots of the quadratic equation are (-0.9999999999999999+1.4142135623730951j) and (-1-1.4142135623730951j), and the discriminant is equal to -8!\n"
          ]
        }
      ]
    },
    {
      "cell_type": "markdown",
      "source": [
        "## Exercício 4 (Intermediário)\n",
        "\n",
        "O código tenta conferir se um número $a$ é divisível por um número $b$."
      ],
      "metadata": {
        "id": "rH-1T3ILn9mi"
      }
    },
    {
      "cell_type": "code",
      "source": [
        "def is_divisor (a1,b1):\n",
        "  if a1 % b1 != 0:\n",
        "    return False\n",
        "  else:\n",
        "    return True\n",
        "\n",
        "a, b = map(int, input(\"Please choose the numbers a and b, separated by a space:\\n\").split())\n",
        "assert b!=0, \"You cannot divide by zero!\"\n",
        "\n",
        "print(is_divisor(a,b))"
      ],
      "metadata": {
        "colab": {
          "base_uri": "https://localhost:8080/",
          "height": 245
        },
        "id": "LCL8w3O-pLcp",
        "outputId": "50c0426b-f71e-49a2-e53d-662a1e7a7ddd"
      },
      "execution_count": null,
      "outputs": [
        {
          "name": "stdout",
          "output_type": "stream",
          "text": [
            "Please choose the numbers a and b, separated by a space:\n",
            "4 0\n"
          ]
        },
        {
          "output_type": "error",
          "ename": "AssertionError",
          "evalue": "You cannot divide by zero!",
          "traceback": [
            "\u001b[0;31m---------------------------------------------------------------------------\u001b[0m",
            "\u001b[0;31mAssertionError\u001b[0m                            Traceback (most recent call last)",
            "\u001b[0;32m<ipython-input-9-8a5c342ba100>\u001b[0m in \u001b[0;36m<cell line: 0>\u001b[0;34m()\u001b[0m\n\u001b[1;32m      6\u001b[0m \u001b[0;34m\u001b[0m\u001b[0m\n\u001b[1;32m      7\u001b[0m \u001b[0ma\u001b[0m\u001b[0;34m,\u001b[0m \u001b[0mb\u001b[0m \u001b[0;34m=\u001b[0m \u001b[0mmap\u001b[0m\u001b[0;34m(\u001b[0m\u001b[0mint\u001b[0m\u001b[0;34m,\u001b[0m \u001b[0minput\u001b[0m\u001b[0;34m(\u001b[0m\u001b[0;34m\"Please choose the numbers a and b, separated by a space:\\n\"\u001b[0m\u001b[0;34m)\u001b[0m\u001b[0;34m.\u001b[0m\u001b[0msplit\u001b[0m\u001b[0;34m(\u001b[0m\u001b[0;34m)\u001b[0m\u001b[0;34m)\u001b[0m\u001b[0;34m\u001b[0m\u001b[0;34m\u001b[0m\u001b[0m\n\u001b[0;32m----> 8\u001b[0;31m \u001b[0;32massert\u001b[0m \u001b[0mb\u001b[0m\u001b[0;34m!=\u001b[0m\u001b[0;36m0\u001b[0m\u001b[0;34m,\u001b[0m \u001b[0;34m\"You cannot divide by zero!\"\u001b[0m\u001b[0;34m\u001b[0m\u001b[0;34m\u001b[0m\u001b[0m\n\u001b[0m\u001b[1;32m      9\u001b[0m \u001b[0;34m\u001b[0m\u001b[0m\n\u001b[1;32m     10\u001b[0m \u001b[0mprint\u001b[0m\u001b[0;34m(\u001b[0m\u001b[0mis_divisor\u001b[0m\u001b[0;34m(\u001b[0m\u001b[0ma\u001b[0m\u001b[0;34m,\u001b[0m\u001b[0mb\u001b[0m\u001b[0;34m)\u001b[0m\u001b[0;34m)\u001b[0m\u001b[0;34m\u001b[0m\u001b[0;34m\u001b[0m\u001b[0m\n",
            "\u001b[0;31mAssertionError\u001b[0m: You cannot divide by zero!"
          ]
        }
      ]
    }
  ]
}