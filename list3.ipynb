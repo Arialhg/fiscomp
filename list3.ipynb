{
 "cells": [
  {
   "cell_type": "markdown",
   "metadata": {},
   "source": [
    "## Exercício 1:\n",
    "\n",
    " $\\pi$ **via Monte Carlo (etapa 1)**: Considere um círculo de raio $r=1$ inscrito em um quadrado de lado $2r=2$. A área do círculo é $\\pi r^2 = \\pi$. A área do quadrado é $4$. A razão entre a área do círculo e a área do quadrado é $\\pi/4$. Se gerarmos $N$ pontos aleatórios uniformemente distribuídos no quadrado, a fração de pontos que cairão dentro do círculo será $\\pi/4$. Assim, podemos estimar $\\pi$ como $4$ vezes a fração de pontos que caíram dentro do círculo. Como visto em aula, pode considerar o círculo e quadrados completos, ou apenas o primeiro quadrante. Varie o número de pontos sorteados $N$ para ver como o resultado muda. Implemente na forma de uma função com assinatura:\n",
    "\n",
    "```python\n",
    "def pi_monte_carlo(N):\n",
    "    '''\n",
    "    DOCSTRING\n",
    "    '''\n",
    "    # seu código aqui\n",
    "    return estimativa_pi"
   ]
  },
  {
   "cell_type": "code",
   "execution_count": 1,
   "metadata": {},
   "outputs": [
    {
     "name": "stdout",
     "output_type": "stream",
     "text": [
      "A total of 7877 generated points are inside the circle.\n",
      "A total of 2123 generated points are outside the circle.\n",
      "with a total number of 10000 points, the approximation for pi is 3.1508. The real value of pi is 3.141592653589793.\n"
     ]
    }
   ],
   "source": [
    "import numpy as np\n",
    "\n",
    "rng = np.random.default_rng()\n",
    "\n",
    "x = rng.random(10000)\n",
    "y = rng.random(10000)\n",
    "r = np.sqrt((x**2)+(y**2))\n",
    "\n",
    "points_in = []\n",
    "points_out = []\n",
    "\n",
    "for element in r:\n",
    "  if element <= 1:\n",
    "    points_in.append(element)\n",
    "  else:\n",
    "    points_out.append(element)\n",
    "\n",
    "num_pIn = len(points_in)\n",
    "num_pOut = len(points_out)\n",
    "\n",
    "p = num_pIn/(num_pIn+num_pOut)\n",
    "\n",
    "print(f'A total of {num_pIn} generated points are inside the circle.')\n",
    "print(f'A total of {num_pOut} generated points are outside the circle.')\n",
    "print(f'with a total number of {num_pIn+num_pOut} points, the approximation for pi is {4*p}. The real value of pi is {np.pi}.')\n"
   ]
  }
 ],
 "metadata": {
  "kernelspec": {
   "display_name": "base",
   "language": "python",
   "name": "python3"
  },
  "language_info": {
   "codemirror_mode": {
    "name": "ipython",
    "version": 3
   },
   "file_extension": ".py",
   "mimetype": "text/x-python",
   "name": "python",
   "nbconvert_exporter": "python",
   "pygments_lexer": "ipython3",
   "version": "3.12.9"
  }
 },
 "nbformat": 4,
 "nbformat_minor": 2
}
