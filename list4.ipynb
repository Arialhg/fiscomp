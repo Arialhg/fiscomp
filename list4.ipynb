{
 "cells": [
  {
   "cell_type": "markdown",
   "metadata": {},
   "source": [
    "## Passeio Aleatório (Mínimo)\n",
    "\n",
    "1. **Passeio aleatório (implementação básica).** Considere um passeio aleatório unidimensional, onde a cada instante de tempo o caminhante dá um passo uma unidade para a direita ou para a esquerda com probabilidades $p$ e $1-p$, respectivamente. O passeio termina depois de $N=1000$ passos. Faça um gráfico da posição do caminhante em função do número de passos (que representa o tempo). Use $p=0.5$ e $p=0.8$. Implemente na forma de uma função que receba como argumento o número de passos $N$ e a probabilidade $p$, e retorne um *array* com a posição do caminhante em cada passo.\n",
    "\n",
    "2. **Passeio aleatório (repetição).** Rode o código acima 100 vezes para um valor fixo $p$ e faça o gráfico conjunto de todos os passeios. Use $p=0.5$ e $p=0.8$. O que observa?\n"
   ]
  },
  {
   "cell_type": "code",
   "execution_count": null,
   "metadata": {},
   "outputs": [
    {
     "ename": "SyntaxError",
     "evalue": "incomplete input (1384993516.py, line 10)",
     "output_type": "error",
     "traceback": [
      "\u001b[1;36m  Cell \u001b[1;32mIn[1], line 10\u001b[1;36m\u001b[0m\n\u001b[1;33m    \u001b[0m\n\u001b[1;37m    ^\u001b[0m\n\u001b[1;31mSyntaxError\u001b[0m\u001b[1;31m:\u001b[0m incomplete input\n"
     ]
    }
   ],
   "source": [
    "import numpy as np\n",
    "import matplotlib.pyplot as plt\n",
    "\n",
    "rng = np.random.default_rng()\n",
    "\n",
    "wlk = np.array([-1, 1])\n",
    "p = float(input('Please input the probability of the random walk: \\n'))\n",
    "pos = 0\n",
    "\n",
    "def random_Walk(p):\n",
    "\n",
    "\n"
   ]
  }
 ],
 "metadata": {
  "kernelspec": {
   "display_name": "base",
   "language": "python",
   "name": "python3"
  },
  "language_info": {
   "codemirror_mode": {
    "name": "ipython",
    "version": 3
   },
   "file_extension": ".py",
   "mimetype": "text/x-python",
   "name": "python",
   "nbconvert_exporter": "python",
   "pygments_lexer": "ipython3",
   "version": "3.12.9"
  }
 },
 "nbformat": 4,
 "nbformat_minor": 2
}
