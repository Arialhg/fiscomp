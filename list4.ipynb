{
 "cells": [
  {
   "cell_type": "markdown",
   "metadata": {},
   "source": [
    "## Passeio Aleatório (Mínimo)\n",
    "\n",
    "1. **Passeio aleatório (implementação básica).** Considere um passeio aleatório unidimensional, onde a cada instante de tempo o caminhante dá um passo uma unidade para a direita ou para a esquerda com probabilidades $p$ e $1-p$, respectivamente. O passeio termina depois de $N=1000$ passos. Faça um gráfico da posição do caminhante em função do número de passos (que representa o tempo). Use $p=0.5$ e $p=0.8$. Implemente na forma de uma função que receba como argumento o número de passos $N$ e a probabilidade $p$, e retorne um *array* com a posição do caminhante em cada passo.\n",
    "\n",
    "2. **Passeio aleatório (repetição).** Rode o código acima 100 vezes para um valor fixo $p$ e faça o gráfico conjunto de todos os passeios. Use $p=0.5$ e $p=0.8$. O que observa?\n"
   ]
  },
  {
   "cell_type": "code",
   "execution_count": null,
   "metadata": {},
   "outputs": [
    {
     "name": "stdout",
     "output_type": "stream",
     "text": [
      "0\n"
     ]
    }
   ],
   "source": []
  }
 ],
 "metadata": {
  "kernelspec": {
   "display_name": "base",
   "language": "python",
   "name": "python3"
  },
  "language_info": {
   "codemirror_mode": {
    "name": "ipython",
    "version": 3
   },
   "file_extension": ".py",
   "mimetype": "text/x-python",
   "name": "python",
   "nbconvert_exporter": "python",
   "pygments_lexer": "ipython3",
   "version": "3.12.9"
  }
 },
 "nbformat": 4,
 "nbformat_minor": 2
}
