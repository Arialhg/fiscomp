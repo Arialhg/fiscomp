{
 "cells": [
  {
   "cell_type": "markdown",
   "metadata": {},
   "source": [
    "\n",
    "## Exercício 2: Mapa logístico, caos e fractais (etapa 1)\n",
    " O mapa logístico é definido pela equação $$x_{n+1} = r x_n (1 - x_n),$$ onde $x_n$ é a população (normalizada entre 0 e 1) no instante de tempo discreto $n$, e $r$ é o parâmetro de crescimento. Para um dado valor de $r$, a população $x_n$ pode convergir para um valor fixo, oscilar entre dois valores, ou oscilar entre mais de dois valores, ou simplesmente enlouquecer e parecer aleatório. \n",
    "\n",
    "a) Implemente uma função `mapa_logistico(r, x0, N)` que recebe o parâmetro de crescimento `r`, a condição inicial `x0` (i.e. $x_0$ para $n=0$), e o número de iterações `N`, e retorna uma lista com os valores de $x_n$ para $n=0,1,2,\\ldots,N$. \n",
    "\n",
    "b) Faça gráficos de $x_n$ vs $n$ (de 0 a 1000 pelo menos) para $r = 2, 3.3, 3.5, 3.9$, sempre iniciando de $x_0=1/2$. Talvez seja melhor usar um gráfico de linhas (`plt.plot`) para $r=2$, e um gráfico de pontos (`plt.scatter`) para os outros valores de $r$. O que você observa?"
   ]
  }
 ],
 "metadata": {
  "language_info": {
   "name": "python"
  }
 },
 "nbformat": 4,
 "nbformat_minor": 2
}
